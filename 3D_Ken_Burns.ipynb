{
  "nbformat": 4,
  "nbformat_minor": 0,
  "metadata": {
    "accelerator": "GPU",
    "colab": {
      "name": "3D_Ken_Burns",
      "provenance": [],
      "collapsed_sections": [],
      "include_colab_link": true
    },
    "kernelspec": {
      "display_name": "Python 3",
      "name": "python3"
    }
  },
  "cells": [
    {
      "cell_type": "markdown",
      "metadata": {
        "id": "view-in-github",
        "colab_type": "text"
      },
      "source": [
        "<a href=\"https://colab.research.google.com/github/sugi-san/3d-ken-burns/blob/master/3D_Ken_Burns.ipynb\" target=\"_parent\"><img src=\"https://colab.research.google.com/assets/colab-badge.svg\" alt=\"Open In Colab\"/></a>"
      ]
    },
    {
      "cell_type": "markdown",
      "metadata": {
        "id": "6gg3GqRqm8fc"
      },
      "source": [
        "## 1.自分のPCからマシンへ接続\n",
        "**右上にある接続ボタンをクリック**"
      ]
    },
    {
      "cell_type": "code",
      "metadata": {
        "id": "vtd0th84B0Zg",
        "cellView": "form"
      },
      "source": [
        "#@title 2.マシンにソフトをインストール\n",
        "# ライブラリーのインストール\n",
        "!pip install chainer\n",
        "!pip install moviepy\n",
        "!pip install gevent\n",
        "\n",
        "# githubからコードを取得\n",
        "!git clone https://github.com/sugi-san/3d-ken-burns.git\n",
        "%cd /content/3d-ken-burns\n",
        "\n",
        "# ディレクトリの作成\n",
        "!mkdir results\n",
        "!mkdir pic\n",
        "\n",
        "# ライブラリーのインポート\n",
        "import chainer\n",
        "import os\n",
        "chainer.print_runtime_info()\n",
        "os.environ['CUDA_HOME'] = \"/usr/local/cuda\"\n",
        "\n",
        "# 学習済みモデルのダウンロード\n",
        "!wget -O ./models/disparity-estimation.pytorch http://content.sniklaus.com/kenburns/network-disparity.pytorch\n",
        "!wget -O ./models/disparity-refinement.pytorch http://content.sniklaus.com/kenburns/network-refinement.pytorch\n",
        "!wget -O ./models/pointcloud-inpainting.pytorch http://content.sniklaus.com/kenburns/network-inpainting.pytorch"
      ],
      "execution_count": null,
      "outputs": []
    },
    {
      "cell_type": "markdown",
      "metadata": {
        "id": "Rvwkw0ECn76B"
      },
      "source": [
        "## 3.左のウインドウを開く\n",
        "**左端のフォルダーマークをクリック、そして3d-ken-burnsの先頭をクリック**\n"
      ]
    },
    {
      "cell_type": "markdown",
      "metadata": {
        "id": "K3uktWmsFwfF"
      },
      "source": [
        "**----------- サンプル画像でやってみるみる -------------**"
      ]
    },
    {
      "cell_type": "code",
      "metadata": {
        "id": "XMtSMFleGHGy"
      },
      "source": [
        "#@title 4.3D_ken_burnsの実行\n",
        "! python autozoom.py --in images/jyofun01.jpeg --out output.mp4"
      ],
      "execution_count": null,
      "outputs": []
    },
    {
      "cell_type": "code",
      "metadata": {
        "id": "sSy-ZTZHGYYH",
        "cellView": "form"
      },
      "source": [
        "#@title 5.mp4動画の再生\n",
        "from IPython.display import HTML\n",
        "from base64 import b64encode\n",
        "\n",
        "mp4 = open('./output.mp4', 'rb').read()\n",
        "data_url = 'data:video/mp4;base64,' + b64encode(mp4).decode()\n",
        "HTML(f\"\"\"\n",
        "<video width=\"70%\" height=\"70%\" controls>\n",
        "      <source src=\"{data_url}\" type=\"video/mp4\">\n",
        "</video>\"\"\")"
      ],
      "execution_count": null,
      "outputs": []
    },
    {
      "cell_type": "markdown",
      "metadata": {
        "id": "QyhWf13kGz85"
      },
      "source": [
        "**---------- 自分の画像でやってみるみる -------------**"
      ]
    },
    {
      "cell_type": "code",
      "metadata": {
        "cellView": "form",
        "id": "oDK3eH8aDUnw"
      },
      "source": [
        "#@title 6.自分の画像のアップロード\n",
        "import os\n",
        "import shutil\n",
        "\n",
        "# picフォルダーリセット\n",
        "if os.path.isdir('pic'):\n",
        "    shutil.rmtree('pic')\n",
        "os.makedirs('pic', exist_ok=True)\n",
        "\n",
        "print('picフォルダーに画像をアップロードして下さい')"
      ],
      "execution_count": null,
      "outputs": []
    },
    {
      "cell_type": "code",
      "metadata": {
        "cellView": "form",
        "id": "T9hxxErvRaNU"
      },
      "source": [
        "#@title 7.3D_ken_burnsの実行\n",
        "!for image in ./pic/*; do python autozoom.py --in $image --out ./output.mp4; done"
      ],
      "execution_count": null,
      "outputs": []
    },
    {
      "cell_type": "code",
      "metadata": {
        "cellView": "form",
        "id": "g0v6pSi6D2TV"
      },
      "source": [
        "#@title 8.mp4動画の再生\n",
        "from IPython.display import HTML\n",
        "from base64 import b64encode\n",
        "\n",
        "mp4 = open('./output.mp4', 'rb').read()\n",
        "data_url = 'data:video/mp4;base64,' + b64encode(mp4).decode()\n",
        "HTML(f\"\"\"\n",
        "<video width=\"50%\" height=\"50%\" controls>\n",
        "      <source src=\"{data_url}\" type=\"video/mp4\">\n",
        "</video>\"\"\")"
      ],
      "execution_count": null,
      "outputs": []
    },
    {
      "cell_type": "markdown",
      "metadata": {
        "id": "V_kPFmsppv9j"
      },
      "source": [
        "## 9.mp4動画のダウンロード\n"
      ]
    }
  ]
}
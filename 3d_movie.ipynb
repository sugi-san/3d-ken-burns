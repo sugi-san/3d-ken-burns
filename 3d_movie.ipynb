{
  "nbformat": 4,
  "nbformat_minor": 0,
  "metadata": {
    "accelerator": "GPU",
    "colab": {
      "name": "3d_movie",
      "provenance": [],
      "collapsed_sections": [],
      "include_colab_link": true
    },
    "kernelspec": {
      "display_name": "Python 3",
      "name": "python3"
    }
  },
  "cells": [
    {
      "cell_type": "markdown",
      "metadata": {
        "id": "view-in-github",
        "colab_type": "text"
      },
      "source": [
        "<a href=\"https://colab.research.google.com/github/sugi-san/3d-movie/blob/master/3d_movie.ipynb\" target=\"_parent\"><img src=\"https://colab.research.google.com/assets/colab-badge.svg\" alt=\"Open In Colab\"/></a>"
      ]
    },
    {
      "cell_type": "markdown",
      "metadata": {
        "id": "-UGFLDkF8DKU"
      },
      "source": [
        "#テーマ：３D動画\n",
        "・扱える写真の種類は、**jpg**と**png**です。ピクセルサイズはHD（1280×720）〜フルHD（1920×1080）くらいが目安\\\n",
        "・1〜11番までの文章が並んでいて、番号の前に何もないのは「手順」、番号の前に黒丸があるのは「プログラム」です"
      ]
    },
    {
      "cell_type": "markdown",
      "metadata": {
        "id": "6gg3GqRqm8fc"
      },
      "source": [
        "## 1.自分のPCからマシンへ接続\n",
        "**右上にある接続ボタンをクリック　→　接続完了で緑色のチェックマーク表示**"
      ]
    },
    {
      "cell_type": "code",
      "metadata": {
        "id": "vtd0th84B0Zg",
        "cellView": "form"
      },
      "source": [
        "#@title 2.マシンにソフトをインストール\n",
        "# ライブラリーのインストール\n",
        "!pip install chainer\n",
        "!pip install moviepy\n",
        "!pip install gevent\n",
        "\n",
        "# githubからコードを取得\n",
        "!git clone https://github.com/sugi-san/3d-movie.git\n",
        "%cd /content/3d-movie\n",
        "\n",
        "# ディレクトリの作成\n",
        "!mkdir output\n",
        "\n",
        "# ライブラリーのインポート\n",
        "import chainer\n",
        "import os\n",
        "chainer.print_runtime_info()\n",
        "os.environ['CUDA_HOME'] = \"/usr/local/cuda\"\n",
        "\n",
        "# 学習済みモデルのダウンロード\n",
        "!wget -O ./models/disparity-estimation.pytorch http://content.sniklaus.com/kenburns/network-disparity.pytorch\n",
        "!wget -O ./models/disparity-refinement.pytorch http://content.sniklaus.com/kenburns/network-refinement.pytorch\n",
        "!wget -O ./models/pointcloud-inpainting.pytorch http://content.sniklaus.com/kenburns/network-inpainting.pytorch\n",
        "\n",
        "# パラメータのダウンロード\n",
        "import torch\n",
        "import torchvision\n",
        "import cupy\n",
        "exec(open('./common.py', 'r').read())\n",
        "exec(open('./models/disparity-estimation.py', 'r').read())\n",
        "exec(open('./models/disparity-adjustment.py', 'r').read())\n",
        "exec(open('./models/disparity-refinement.py', 'r').read())\n",
        "exec(open('./models/pointcloud-inpainting.py', 'r').read())"
      ],
      "execution_count": null,
      "outputs": []
    },
    {
      "cell_type": "markdown",
      "metadata": {
        "id": "Rvwkw0ECn76B"
      },
      "source": [
        "## 3.左のウインドウを開く\n",
        "**左端にあるフォルダーマークをクリックし、3d_movieフォルダーの先頭をクリックして開く**\\\n",
        "＊左のウインドウは実際と表示にタイムラグがあるので、必要に応じて左上にある更新ボタンを押す\n"
      ]
    },
    {
      "cell_type": "markdown",
      "metadata": {
        "id": "v3bo7qk_awNa"
      },
      "source": [
        "**----------- サンプル画像でやってみる -------------**\n",
        "\n"
      ]
    },
    {
      "cell_type": "markdown",
      "metadata": {
        "id": "QTawRc9AlQJk"
      },
      "source": [
        "### 4.サンプル画像の確認\n",
        "**inputフォルダーの先端をクリックして開き、中にある画像ファイルをダブルクリック。確認後×で戻る**\\\n",
        "\\\n",
        "**shift : （基準：100）視点と写真の中心点との差**\\\n",
        "**distance : （基準：1.25）視点の前方への移動距離**"
      ]
    },
    {
      "cell_type": "code",
      "metadata": {
        "id": "0CK3DXarSIJs",
        "cellView": "form"
      },
      "source": [
        "#@title 5.動画の作成（inputフォルダーにある画像から選ぶ）\n",
        "import torch\n",
        "import torchvision\n",
        "import base64\n",
        "import cupy\n",
        "import cv2\n",
        "import flask\n",
        "import getopt\n",
        "import gevent\n",
        "import gevent.pywsgi\n",
        "import glob\n",
        "import h5py\n",
        "import io\n",
        "import math\n",
        "import moviepy\n",
        "import moviepy.editor\n",
        "import numpy\n",
        "import os\n",
        "import random\n",
        "import re\n",
        "import scipy\n",
        "import scipy.io\n",
        "import shutil\n",
        "import sys\n",
        "import tempfile\n",
        "import time\n",
        "import urllib\n",
        "import zipfile\n",
        "\n",
        "assert(int(str('').join(torch.__version__.split('.')[0:2])) >= 12) # requires at least pytorch version 1.2.0\n",
        "torch.set_grad_enabled(False) # make sure to not compute gradients for computational performance\n",
        "torch.backends.cudnn.enabled = True # make sure to use cudnn for computational performance\n",
        "objCommon = {}\n",
        "\n",
        "input = '02.jpg' #@param {type:\"string\"}\n",
        "arguments_strIn = './input/'+input\n",
        "arguments_strOut = './output/movie.mp4'\n",
        " \n",
        "shift =  100#@param {type:\"slider\", min:0, max:200, step:10}\n",
        "distance = 1.25  #@param {type:\"slider\", min:1.25, max:2, step:0.05}\n",
        "end = 4 \n",
        "step = int(160*distance - 20)\n",
        "\n",
        "##########################################################\n",
        "npyImage = cv2.imread(filename=arguments_strIn, flags=cv2.IMREAD_COLOR)\n",
        "\n",
        "intWidth = npyImage.shape[1]\n",
        "intHeight = npyImage.shape[0]\n",
        "\n",
        "fltRatio = float(intWidth) / float(intHeight)\n",
        "\n",
        "intWidth = min(int(1024 * fltRatio), 1024)\n",
        "intHeight = min(int(1024 / fltRatio), 1024)\n",
        "\n",
        "# ----------\n",
        "if not intWidth % 2 == 0:\n",
        "  intWidth +=1\n",
        "\n",
        "if not intHeight % 2 ==0:\n",
        "  intHeight +=1\n",
        "# ----------\n",
        "\n",
        "npyImage = cv2.resize(src=npyImage, dsize=(intWidth, intHeight), fx=0.0, fy=0.0, interpolation=cv2.INTER_AREA)\n",
        "\n",
        "process_load(npyImage, {})\n",
        "\n",
        "objFrom = {\n",
        "\t\t'fltCenterU': intWidth / 2.0,\n",
        "\t\t'fltCenterV': intHeight / 2.0,\n",
        "\t\t'intCropWidth': int(math.floor(0.97 * intWidth)),\n",
        "\t\t'intCropHeight': int(math.floor(0.97 * intHeight))\n",
        "}\n",
        "\n",
        "objTo = process_autozoom({\n",
        "\t\t'fltShift': shift,  \n",
        "\t\t'fltZoom': distance, \n",
        "\t\t'objFrom': objFrom\n",
        "})\n",
        "\n",
        "npyResult = process_kenburns({\n",
        "\t\t'fltSteps': numpy.linspace(0.0, end, step).tolist(),\n",
        "\t\t'objFrom': objFrom,\n",
        "\t\t'objTo': objTo,\n",
        "\t\t'boolInpaint': True\n",
        "})\n",
        "\n",
        "moviepy.editor.ImageSequenceClip(sequence=[ npyFrame[:, :, ::-1] for npyFrame in npyResult + list(reversed(npyResult))[1:] ], fps=25).write_videofile(arguments_strOut)\n"
      ],
      "execution_count": null,
      "outputs": []
    },
    {
      "cell_type": "code",
      "metadata": {
        "id": "_ZVsaOCGStaL",
        "cellView": "form"
      },
      "source": [
        "#@title 6.動画の再生\n",
        "from IPython.display import HTML\n",
        "from base64 import b64encode\n",
        "\n",
        "mp4 = open('./output/movie.mp4', 'rb').read()\n",
        "data_url = 'data:video/mp4;base64,' + b64encode(mp4).decode()\n",
        "HTML(f\"\"\"\n",
        "<video width=\"70%\" height=\"70%\" controls>\n",
        "      <source src=\"{data_url}\" type=\"video/mp4\">\n",
        "</video>\"\"\")"
      ],
      "execution_count": null,
      "outputs": []
    },
    {
      "cell_type": "markdown",
      "metadata": {
        "id": "Us9UmGZxHari"
      },
      "source": [
        "### 7.動画のダウンロード\n",
        "**outputフォルダーの先端をクリックして開き、中にあるmovie.mp4の右端の３つの点をクリックし、ダウンロードを選択**\\\n",
        "＊ダウンロードしたら適当な名前に変更して下さい"
      ]
    },
    {
      "cell_type": "markdown",
      "metadata": {
        "id": "QyhWf13kGz85"
      },
      "source": [
        "**---------- 自分の画像でやってみる -------------**"
      ]
    },
    {
      "cell_type": "markdown",
      "metadata": {
        "id": "Oa7r8u-3dPKw"
      },
      "source": [
        "### 8.自分の写真をアップロード\n",
        "**inputフォルダーの右端の３つの点をクリックし、アップロードを選択**\\\n",
        "\\\n",
        "**shift : （基準：100）視点と写真の中心点との差**\\\n",
        "**distance : （基準：1.25）視点の前方への移動距離**"
      ]
    },
    {
      "cell_type": "code",
      "metadata": {
        "id": "T9hxxErvRaNU",
        "cellView": "form"
      },
      "source": [
        "#@title 9.動画の作成（inputフォルダーにある画像から選ぶ）\n",
        "import torch\n",
        "import torchvision\n",
        "import base64\n",
        "import cupy\n",
        "import cv2\n",
        "import flask\n",
        "import getopt\n",
        "import gevent\n",
        "import gevent.pywsgi\n",
        "import glob\n",
        "import h5py\n",
        "import io\n",
        "import math\n",
        "import moviepy\n",
        "import moviepy.editor\n",
        "import numpy\n",
        "import os\n",
        "import random\n",
        "import re\n",
        "import scipy\n",
        "import scipy.io\n",
        "import shutil\n",
        "import sys\n",
        "import tempfile\n",
        "import time\n",
        "import urllib\n",
        "import zipfile\n",
        "\n",
        "assert(int(str('').join(torch.__version__.split('.')[0:2])) >= 12) # requires at least pytorch version 1.2.0\n",
        "torch.set_grad_enabled(False) # make sure to not compute gradients for computational performance\n",
        "torch.backends.cudnn.enabled = True # make sure to use cudnn for computational performance\n",
        "objCommon = {}\n",
        "\n",
        "input = '' #@param {type:\"string\"}\n",
        "arguments_strIn = './input/'+input\n",
        "arguments_strOut = './output/movie.mp4'\n",
        " \n",
        "shift =  100#@param {type:\"slider\", min:0, max:200, step:10}\n",
        "distance = 1.25  #@param {type:\"slider\", min:1.25, max:2, step:0.05}\n",
        "end = 4 \n",
        "step = int(160*distance - 20)\n",
        "\n",
        "##########################################################\n",
        "npyImage = cv2.imread(filename=arguments_strIn, flags=cv2.IMREAD_COLOR)\n",
        "\n",
        "intWidth = npyImage.shape[1]\n",
        "intHeight = npyImage.shape[0]\n",
        "\n",
        "fltRatio = float(intWidth) / float(intHeight)\n",
        "\n",
        "intWidth = min(int(1024 * fltRatio), 1024)\n",
        "intHeight = min(int(1024 / fltRatio), 1024)\n",
        "\n",
        "# ----------\n",
        "if not intWidth % 2 == 0:\n",
        "  intWidth +=1\n",
        "\n",
        "if not intHeight % 2 ==0:\n",
        "  intHeight +=1\n",
        "# ----------\n",
        "\n",
        "npyImage = cv2.resize(src=npyImage, dsize=(intWidth, intHeight), fx=0.0, fy=0.0, interpolation=cv2.INTER_AREA)\n",
        "\n",
        "process_load(npyImage, {})\n",
        "\n",
        "objFrom = {\n",
        "\t\t'fltCenterU': intWidth / 2.0,\n",
        "\t\t'fltCenterV': intHeight / 2.0,\n",
        "\t\t'intCropWidth': int(math.floor(0.97 * intWidth)),\n",
        "\t\t'intCropHeight': int(math.floor(0.97 * intHeight))\n",
        "}\n",
        "\n",
        "objTo = process_autozoom({\n",
        "\t\t'fltShift': shift,  \n",
        "\t\t'fltZoom': distance, \n",
        "\t\t'objFrom': objFrom\n",
        "})\n",
        "\n",
        "npyResult = process_kenburns({\n",
        "\t\t'fltSteps': numpy.linspace(0.0, end, step).tolist(),\n",
        "\t\t'objFrom': objFrom,\n",
        "\t\t'objTo': objTo,\n",
        "\t\t'boolInpaint': True\n",
        "})\n",
        "\n",
        "moviepy.editor.ImageSequenceClip(sequence=[ npyFrame[:, :, ::-1] for npyFrame in npyResult + list(reversed(npyResult))[1:] ], fps=25).write_videofile(arguments_strOut)\n"
      ],
      "execution_count": null,
      "outputs": []
    },
    {
      "cell_type": "code",
      "metadata": {
        "id": "g0v6pSi6D2TV",
        "cellView": "form"
      },
      "source": [
        "#@title 10.mp4動画の再生\n",
        "from IPython.display import HTML\n",
        "from base64 import b64encode\n",
        "\n",
        "mp4 = open('./output/movie.mp4', 'rb').read()\n",
        "data_url = 'data:video/mp4;base64,' + b64encode(mp4).decode()\n",
        "HTML(f\"\"\"\n",
        "<video width=\"70%\" height=\"70%\" controls>\n",
        "      <source src=\"{data_url}\" type=\"video/mp4\">\n",
        "</video>\"\"\")"
      ],
      "execution_count": null,
      "outputs": []
    },
    {
      "cell_type": "markdown",
      "metadata": {
        "id": "Xbh3fuIlImpK"
      },
      "source": [
        "### 11.動画のダウンロード\n",
        "**outputフォルダーの中にあるmovie.mp4の右端の３つの点をクリックし、ダウンロードを選択**\\\n",
        "＊ダウンロードしたら適当な名前に変更して下さい"
      ]
    },
    {
      "cell_type": "markdown",
      "metadata": {
        "id": "mfcAYVU37Yv_"
      },
      "source": [
        "### 【備考】\n",
        "・このノートを実行して閉じてから、**すぐ再度実行**する場合は、前の記憶が不完全に残っていて上手く動かないことがあります。その場合は、右上にある**「ランタイム／ランタイムを出荷時設定にリセット」**をクリックしてから、**１番**から操作を行います。\\\n",
        "・長時間使用するとgoogleから使用制限を受ける場合がありますが、12h〜24h程度経つと使用制限が解除されます。\\"
      ]
    }
  ]
}